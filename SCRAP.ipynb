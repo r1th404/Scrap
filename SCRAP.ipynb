{
 "cells": [
  {
   "cell_type": "code",
   "execution_count": 55,
   "metadata": {},
   "outputs": [],
   "source": [
    "import requests\n",
    "from bs4 import BeautifulSoup\n",
    "from prettytable import PrettyTable\n"
   ]
  },
  {
   "cell_type": "code",
   "execution_count": 56,
   "metadata": {},
   "outputs": [],
   "source": [
    "base_url = 'https://www.vlr.gg'\n",
    "url = 'https://www.vlr.gg/news/?page=2'\n",
    "response = requests.get(url)"
   ]
  },
  {
   "cell_type": "code",
   "execution_count": 60,
   "metadata": {},
   "outputs": [
    {
     "name": "stdout",
     "output_type": "stream",
     "text": [
      "Berita:\n",
      "+-----------------------------------------------------------------------------------------------+--------------------------------------------------------------------------------------------------------------------------------------------------------------------------------+-----------------+-----------------+\n",
      "|                                             Judul                                             |                                                                                   Sub Judul                                                                                    |     Pembuat     |  Tanggal Rilis  |\n",
      "+-----------------------------------------------------------------------------------------------+--------------------------------------------------------------------------------------------------------------------------------------------------------------------------------+-----------------+-----------------+\n",
      "|                   Riot announces finalized details for VCT Ascension Pacific                  |                                                                    See you at the BritAma Arena in Jakarta!                                                                    |    jenopelle    | August 30, 2024 |\n",
      "|                              M8 TaKaS to explore options for 2025                             |                                                                      The French duelist is on the market.                                                                      |    jenopelle    | August 30, 2024 |\n",
      "|                              Derke enters restricted free agency                              |                                                                One of EMEA's best is seeking new opportunities.                                                                |     raezeri     | August 29, 2024 |\n",
      "|                            ZETA Division’s Laz announces retirement                           |                                                                          Congrats on retirement, Laz!                                                                          |    jenopelle    | August 26, 2024 |\n",
      "|                 EDward Gaming conquer Champions 2024 in historic win for China                |                                                 EDward Gaming have cemented themselves as the best team in the world in Seoul.                                                 |     raezeri     | August 25, 2024 |\n",
      "|              Team Heretics topple Leviátan, advance to Champions 2024 grand final             |                                                                Their second straight international grand final.                                                                |    jenopelle    | August 24, 2024 |\n",
      "|                Team Heretics beat Sentinels, will face Leviátan in lower finals               | Team Heretics beat Sentinels 2-1 at Valorant Champions 2024, eliminating the popular Americas team while securing their lower finals match against the top seed from Americas. |      weivy      | August 23, 2024 |\n",
      "|   EDward Gaming take down Leviátan, advance to China's first-ever international grand final   |                                                                           The miracle run continues.                                                                           |    jenopelle    | August 23, 2024 |\n",
      "|                                     VLR Rating 2.0 Update                                     |                                                                                                                                                                                | FerahgoTheGreat | August 23, 2024 |\n",
      "|                      Global Esports roster become Restricted Free Agents                      |                                                     Global Esports has allowed their players to explore options for 2025.                                                      |     CongoBat    | August 22, 2024 |\n",
      "|                                Riot announces VCT 2025 details                                |                        VCT 2025 will extend the season, revamp the format based on feedback, and, most importantly, arrive with new in-game cosmetics.                         |     thothgow    | August 21, 2024 |\n",
      "|                                   Secret part ways with NDG                                   |                                                                    NDG has been released from Team Secret.                                                                     |     CongoBat    | August 21, 2024 |\n",
      "|                          pl1xx leaves Wolves Esports after one season                         |                                                                  pl1xx is LFT for the second time in a year.                                                                   |    jenopelle    | August 21, 2024 |\n",
      "|                         Team Heretics reach top four with 2-1 over DRX                        |                                                 Team Heretics have overcome DRX after a 2-1 win in the Champions lower bracket                                                 |     thothgow    | August 18, 2024 |\n",
      "|                          Sentinels go the distance, eliminate FNATIC                          |                                                                              SEN City marches on.                                                                              |    jenopelle    | August 18, 2024 |\n",
      "|                      Leviátan topple Team Heretics to secure upper finals                     |                          Leviátan swept Team Heretics 2-0 with second-half comebacks on both maps to secure their upper final spot at Champions 2024.                          |      weivy      | August 17, 2024 |\n",
      "|                    EDward Gaming push past Sentinels, progress to top three                   |                                      EDG secure a historic win for China with the region's first ever top three international placement.                                       |     raezeri     | August 17, 2024 |\n",
      "|                FNATIC dominate G2 and survive first Champions elimination bout                |                                                                            Unparalleled dominance.                                                                             |     eutalyx     | August 16, 2024 |\n",
      "|               DRX sweep Trace Esports in first lower bracket match of Champions               |                                                       DRX send Trace home to progress in the lower bracket at Champions.                                                       |     raezeri     | August 16, 2024 |\n",
      "|                     Team Heretics continue winstreak with 2-0 over FNATIC                     |                           Team Heretics are now 2 for 2 against regional winners, with the possibility of continuing their streak against Leviatán.                            |     thothgow    | August 15, 2024 |\n",
      "|               Leviátan sweep G2 in all-Americas rematch, advance to upper semis               |                                                                    A good showing from the supporting cast.                                                                    |    jenopelle    | August 15, 2024 |\n",
      "|                EDG extend winstreak over Trace with Champions quarterfinals win               |                                   EDG claimed their fifth win in a row over Trace, a streak that has gone uninterrupted since late October.                                    |     eutalyx     | August 14, 2024 |\n",
      "|                       Sentinels send DRX to lower bracket with 2-0 sweep                      |                                                                      A clean win for the Americas 4-seed.                                                                      |    jenopelle    | August 14, 2024 |\n",
      "|                    Toast speaks on Disguised reaching Ascension in year two                   |                        Disguised is competing for Ascension a year after they were created, and in an entirely different region than where they began.                         |      weivy      | August 14, 2024 |\n",
      "|                       BLEED announce roster overhaul, bench four players                      |                                              BLEED prepare for a major roster shift. Four players are now restricted free agents.                                              |     raezeri     | August 14, 2024 |\n",
      "|                       Patch 9.03 brings quality-of-life ability updates                       |                        The latest Valorant patch focuses on bringing quality-of-life updates to ground-spreading abilities and map-targeted abilities.                         |     eutalyx     | August 13, 2024 |\n",
      "|                                 T1 parts ways with coach Daeda                                |                                                          Another domino falls in what's been a busy offseason for T1.                                                          |    jenopelle    | August 13, 2024 |\n",
      "|                           Valorant OFF//SEASON 2024 events announced                          |                                                     Say goodbye to the 2024 VCT, and say hello to this year's OFF//SEASON.                                                     |      Seulgi     | August 13, 2024 |\n",
      "| EDG coach Muggle expresses relief after qualifying for Champions playoffs in press conference |                                                                                                                                                                                |      Seulgi     | August 12, 2024 |\n",
      "|                f0rsakeN elaborates on difficulty facing EDG in press conference               |                                                                                                                                                                                |      Seulgi     | August 12, 2024 |\n",
      "+-----------------------------------------------------------------------------------------------+--------------------------------------------------------------------------------------------------------------------------------------------------------------------------------+-----------------+-----------------+\n"
     ]
    }
   ],
   "source": [
    "if response.status_code == 200:\n",
    "\n",
    "    soup = BeautifulSoup(response.content, 'html.parser')\n",
    "\n",
    "\n",
    "    news_table = PrettyTable()\n",
    "    news_table.field_names = [\"Judul\", \"Sub Judul\", \"Pembuat\", \"Tanggal Rilis\"]\n",
    "\n",
    "\n",
    "    for article in soup.find_all('a', class_='wf-module-item'):\n",
    "\n",
    "        title = article.find('div', style=lambda x: x and 'font-weight: 700' in x).text.strip()\n",
    "        \n",
    "\n",
    "        sub_title = article.find('div', style=lambda x: x and 'font-size: 13px' in x).text.strip()\n",
    "\n",
    "\n",
    "        date_author_div = article.find('div', class_='ge-text-light')\n",
    "        date = date_author_div.find_all('span')[0].next_sibling.strip() if date_author_div else 'N/A'\n",
    "        author = date_author_div.find_all('span')[1].next_sibling.strip().split('by ')[-1] if date_author_div else 'N/A'\n",
    "\n",
    "        news_table.add_row([title, sub_title, author, date])\n",
    "\n",
    "\n",
    "    print(\"Berita:\")\n",
    "    print(news_table)\n"
   ]
  }
 ],
 "metadata": {
  "kernelspec": {
   "display_name": "Python 3",
   "language": "python",
   "name": "python3"
  },
  "language_info": {
   "codemirror_mode": {
    "name": "ipython",
    "version": 3
   },
   "file_extension": ".py",
   "mimetype": "text/x-python",
   "name": "python",
   "nbconvert_exporter": "python",
   "pygments_lexer": "ipython3",
   "version": "3.11.5"
  }
 },
 "nbformat": 4,
 "nbformat_minor": 2
}
